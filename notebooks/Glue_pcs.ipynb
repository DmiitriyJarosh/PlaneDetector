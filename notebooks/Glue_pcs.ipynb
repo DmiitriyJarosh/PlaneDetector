{
 "cells": [
  {
   "cell_type": "code",
   "execution_count": 1,
   "id": "639d588f-eb09-4bbe-a5ee-7dee22789b94",
   "metadata": {},
   "outputs": [
    {
     "name": "stdout",
     "output_type": "stream",
     "text": [
      "Jupyter environment detected. Enabling Open3D WebVisualizer.\n",
      "[Open3D INFO] WebRTC GUI backend enabled.\n",
      "[Open3D INFO] WebRTCWindowSystem: HTTP handshake server disabled.\n"
     ]
    }
   ],
   "source": [
    "import open3d as o3d\n",
    "import os\n",
    "import numpy as np\n",
    "from tqdm import tqdm"
   ]
  },
  {
   "cell_type": "code",
   "execution_count": 2,
   "id": "d37f57ec-a3a4-4c99-80ec-602816f84f06",
   "metadata": {},
   "outputs": [],
   "source": [
    "def get_matrix_from_kitti_file(line: str) -> np.ndarray:\n",
    "    matrix = np.eye(4)\n",
    "    matrix[:3, :4] = np.array(list(map(float, line.rstrip().split(\" \")))).reshape(3, 4)\n",
    "\n",
    "    return matrix\n",
    "\n",
    "\n",
    "def get_calibration_matrix_from_calib_file(path_to_calibration_file: str) -> np.ndarray:\n",
    "    with open(path_to_calibration_file) as file:\n",
    "        return get_matrix_from_kitti_file(file.readlines()[4][4:])\n",
    "\n",
    "\n",
    "def get_position_matrices_from_poses_file(path_to_poses_file: str) -> list:\n",
    "    with open(path_to_poses_file) as file:\n",
    "        lines = file.readlines()\n",
    "        pose_matrices = []\n",
    "\n",
    "        for frame_number in range(len(lines)):\n",
    "            pose_matrices.append(get_matrix_from_kitti_file(lines[frame_number]))\n",
    "\n",
    "        return pose_matrices\n",
    "    \n",
    "def get_point_cloud_from_bin_file(path_to_bin_file: str) -> o3d.geometry.PointCloud:\n",
    "    \"\"\"\n",
    "    Function allows you to get a point cloud from a file with lidar data\n",
    "    \"\"\"\n",
    "    point_cloud_numpy = np.fromfile(path_to_bin_file, dtype=np.float32).reshape(-1, 4)\n",
    "    point_cloud = o3d.geometry.PointCloud()\n",
    "    point_cloud.points = o3d.utility.Vector3dVector(point_cloud_numpy[:, :3])\n",
    "    return point_cloud\n",
    "\n",
    "def transform_positions_in_point_cloud(\n",
    "    calib_matrix: np.ndarray,\n",
    "    pose_matrix: np.ndarray,\n",
    "    point_cloud: o3d.geometry.PointCloud\n",
    ") -> o3d.geometry.PointCloud:\n",
    "    left_camera_matrix = pose_matrix @ calib_matrix\n",
    "\n",
    "    return point_cloud.transform(left_camera_matrix)"
   ]
  },
  {
   "cell_type": "code",
   "execution_count": 3,
   "id": "ba9b21f3-a718-4930-b027-6b40c9b29f8e",
   "metadata": {},
   "outputs": [
    {
     "name": "stderr",
     "output_type": "stream",
     "text": [
      "100%|██████████| 251/251 [00:20<00:00, 11.96it/s]\n"
     ]
    }
   ],
   "source": [
    "path_to_bin_dir = \"/home/anasyasiia/Downloads/SemanticKITTI_00/\"\n",
    "path_to_poses_file = \"/home/anasyasiia/Downloads/rss2018_frame2frame/00.txt\"\n",
    "path_to_calib_file = \"/home/anasyasiia/Downloads/data_odometry_calib/dataset/sequences/00/calib.txt\"\n",
    "\n",
    "point_cloud = o3d.geometry.PointCloud()\n",
    "calib_matrix = get_calibration_matrix_from_calib_file(path_to_calib_file)\n",
    "poses_matrices = get_position_matrices_from_poses_file(path_to_poses_file)\n",
    "\n",
    "N = 1000\n",
    "for index in tqdm(range(750, N + 1)):\n",
    "    path_to_current_point_cloud = os.path.join(\n",
    "        path_to_bin_dir, str(index).zfill(6) + \".bin\"\n",
    "    )\n",
    "    temp_point_cloud = get_point_cloud_from_bin_file(path_to_current_point_cloud)\n",
    "    temp_point_cloud = transform_positions_in_point_cloud(\n",
    "        calib_matrix, poses_matrices[index], temp_point_cloud\n",
    "    )\n",
    "\n",
    "    if not index % 5:\n",
    "        point_cloud = point_cloud + temp_point_cloud\n",
    "#     if index % 50:\n",
    "#         point_cloud = point_cloud.voxel_down_sample(0.05)"
   ]
  },
  {
   "cell_type": "code",
   "execution_count": 4,
   "id": "d552d20a-2f4c-4b0a-baf5-59b807218d13",
   "metadata": {},
   "outputs": [],
   "source": [
    "point_cloud_ds = point_cloud.voxel_down_sample(0.2)"
   ]
  },
  {
   "cell_type": "code",
   "execution_count": 5,
   "id": "030f0df3-d209-482d-8be5-995952eaa147",
   "metadata": {},
   "outputs": [],
   "source": [
    "o3d.visualization.draw_geometries([point_cloud_ds])"
   ]
  },
  {
   "cell_type": "code",
   "execution_count": 6,
   "id": "11271669-4c6f-4b30-b78a-46a3e4e463da",
   "metadata": {},
   "outputs": [
    {
     "data": {
      "text/plain": [
       "True"
      ]
     },
     "execution_count": 6,
     "metadata": {},
     "output_type": "execute_result"
    }
   ],
   "source": [
    "o3d.io.write_point_cloud('test_750_1000_20cm.pcd', point_cloud_ds)"
   ]
  },
  {
   "cell_type": "code",
   "execution_count": 39,
   "id": "0a449c32-d6e9-42a6-8729-4bac6f1ef354",
   "metadata": {},
   "outputs": [],
   "source": [
    "import matplotlib.pyplot as plt\n",
    "\n",
    "def visualize_labels(pcd, labels):\n",
    "    geometries = []\n",
    "    points = np.asarray(pcd.points)\n",
    "    N_planes = np.max(labels) + 1\n",
    "    \n",
    "    cmap = plt.cm.get_cmap('Spectral')\n",
    "    \n",
    "    for i in range(N_planes):\n",
    "        pcd = o3d.geometry.PointCloud()\n",
    "        pcd.points = o3d.utility.Vector3dVector(points[np.where(labels == i)])\n",
    "        print(cmap(i / N_planes))\n",
    "        pcd.paint_uniform_color(cmap(i / N_planes)[:3])\n",
    "        geometries.append(pcd)\n",
    "\n",
    "    o3d.visualization.draw_geometries(geometries)"
   ]
  },
  {
   "cell_type": "code",
   "execution_count": 71,
   "id": "55ec3c40-22b4-46c0-815b-c00d55610cb5",
   "metadata": {},
   "outputs": [
    {
     "name": "stdout",
     "output_type": "stream",
     "text": [
      "(0.6196078431372549, 0.00392156862745098, 0.25882352941176473, 1.0)\n",
      "(0.998077662437524, 0.9992310649750096, 0.7460207612456747, 1.0)\n"
     ]
    }
   ],
   "source": [
    "visualize_labels(point_cloud_ds, labels)"
   ]
  },
  {
   "cell_type": "code",
   "execution_count": 26,
   "id": "b2c50c29-4093-443e-ad1a-451cd6ca788d",
   "metadata": {},
   "outputs": [
    {
     "data": {
      "text/plain": [
       "array([[-197.03268227,   15.03829018,  310.90641669],\n",
       "       [-189.22224677,   14.43441436,  309.35343541],\n",
       "       [-189.26649891,   14.43330104,  309.12879376],\n",
       "       ...,\n",
       "       [-188.94523831,   13.14214186,  313.07322507],\n",
       "       [-102.49077192,   13.38577921,  385.03804255],\n",
       "       [ -82.98365807,    9.69436086,  339.98985685]])"
      ]
     },
     "execution_count": 26,
     "metadata": {},
     "output_type": "execute_result"
    }
   ],
   "source": [
    "point_cloud_ds"
   ]
  },
  {
   "cell_type": "code",
   "execution_count": 67,
   "id": "4eda4345-e514-476f-9772-a681d7c76db8",
   "metadata": {},
   "outputs": [],
   "source": [
    "index = 750\n",
    "path_to_current_point_cloud = os.path.join(\n",
    "        path_to_bin_dir, str(index).zfill(6) + \".bin\"\n",
    "    )\n",
    "temp_point_cloud = get_point_cloud_from_bin_file(path_to_current_point_cloud)\n",
    "temp_point_cloud = transform_positions_in_point_cloud(\n",
    "    calib_matrix, poses_matrices[index], temp_point_cloud\n",
    "    )\n",
    "\n",
    "obs_points = np.asarray(temp_point_cloud.points)\n",
    "temp_point_cloud.paint_uniform_color([1, 0, 0])\n",
    "o3d.visualization.draw_geometries([point_cloud_ds, temp_point_cloud])"
   ]
  },
  {
   "cell_type": "code",
   "execution_count": 45,
   "id": "4af7cf8c-49b9-4dc2-8203-25591dbf78c2",
   "metadata": {},
   "outputs": [],
   "source": [
    "map_tree = o3d.geometry.KDTreeFlann(point_cloud_ds)"
   ]
  },
  {
   "cell_type": "code",
   "execution_count": 68,
   "id": "891cfc8b-6982-42b6-87a7-aae28577b784",
   "metadata": {},
   "outputs": [],
   "source": [
    "cmap = plt.cm.get_cmap('Spectral')\n",
    "N_planes = np.max(labels) + 1\n",
    "for point_idx in range(obs_points.shape[0]):\n",
    "    [k, idx, _] = map_tree.search_knn_vector_3d(obs_points[point_idx], 1)\n",
    "    np.asarray(temp_point_cloud.colors)[point_idx] = cmap(labels[idx[0]] / N_planes)[:3]"
   ]
  },
  {
   "cell_type": "code",
   "execution_count": 73,
   "id": "d7dce84a-717f-4755-aa5e-15f60c0bade1",
   "metadata": {},
   "outputs": [],
   "source": [
    "o3d.visualization.draw_geometries([temp_point_cloud])"
   ]
  },
  {
   "cell_type": "code",
   "execution_count": 72,
   "id": "464ec3d0-8fd8-4f47-a6d2-d4f5d16385dd",
   "metadata": {},
   "outputs": [],
   "source": [
    "o3d.visualization.draw_geometries([point_cloud_ds])"
   ]
  },
  {
   "cell_type": "code",
   "execution_count": 86,
   "id": "8ac64473-9f99-4c17-b28d-ef58ff729fb5",
   "metadata": {},
   "outputs": [],
   "source": [
    "def remap_labels(pc_obs, pc_map, labels_map):\n",
    "    cmap = plt.cm.get_cmap('Spectral')\n",
    "    N_planes = np.max(labels) + 1\n",
    "    map_tree = o3d.geometry.KDTreeFlann(pc_map)\n",
    "    obs_points = np.asarray(pc_obs.points)\n",
    "    pc_obs.paint_uniform_color([0, 0, 0])\n",
    "\n",
    "    labels_obs = np.zeros(obs_points.shape[0])\n",
    "    for point_idx in range(obs_points.shape[0]):\n",
    "        [k, idx, _] = map_tree.search_knn_vector_3d(obs_points[point_idx], 1)\n",
    "        np.asarray(pc_obs.colors)[point_idx] = cmap(labels_map[idx[0]] / N_planes)[:3]\n",
    "        labels_obs[point_idx] = labels_map[idx[0]]\n",
    "        \n",
    "    o3d.visualization.draw_geometries([pc_obs])\n",
    "    return labels_obs"
   ]
  },
  {
   "cell_type": "code",
   "execution_count": 87,
   "id": "1a0e92d8-7e28-407a-abc6-61e2d4c71282",
   "metadata": {},
   "outputs": [
    {
     "data": {
      "text/plain": [
       "array([0., 0., 0., ..., 1., 1., 1.])"
      ]
     },
     "execution_count": 87,
     "metadata": {},
     "output_type": "execute_result"
    }
   ],
   "source": [
    "index = 900\n",
    "path_to_current_point_cloud = os.path.join(\n",
    "        path_to_bin_dir, str(index).zfill(6) + \".bin\"\n",
    "    )\n",
    "temp_point_cloud = get_point_cloud_from_bin_file(path_to_current_point_cloud)\n",
    "temp_point_cloud = transform_positions_in_point_cloud(\n",
    "    calib_matrix, poses_matrices[index], temp_point_cloud\n",
    "    )\n",
    "\n",
    "# o3d.visualization.draw_geometries([temp_point_cloud])\n",
    "\n",
    "obs_labels = remap_labels(temp_point_cloud, point_cloud_ds, labels)"
   ]
  },
  {
   "cell_type": "code",
   "execution_count": 1,
   "id": "1371faa1-f934-4427-b358-485650a79e9c",
   "metadata": {},
   "outputs": [
    {
     "ename": "NameError",
     "evalue": "name 'o3d' is not defined",
     "output_type": "error",
     "traceback": [
      "\u001B[0;31m---------------------------------------------------------------------------\u001B[0m",
      "\u001B[0;31mNameError\u001B[0m                                 Traceback (most recent call last)",
      "\u001B[0;32m<ipython-input-1-cd273344fe6b>\u001B[0m in \u001B[0;36m<module>\u001B[0;34m\u001B[0m\n\u001B[0;32m----> 1\u001B[0;31m \u001B[0mpc5\u001B[0m \u001B[0;34m=\u001B[0m \u001B[0mo3d\u001B[0m\u001B[0;34m.\u001B[0m\u001B[0mio\u001B[0m\u001B[0;34m.\u001B[0m\u001B[0mread_point_cloud\u001B[0m\u001B[0;34m(\u001B[0m\u001B[0;34m'pcds/test_750_1000_20cm.pcd'\u001B[0m\u001B[0;34m)\u001B[0m\u001B[0;34m\u001B[0m\u001B[0;34m\u001B[0m\u001B[0m\n\u001B[0m",
      "\u001B[0;31mNameError\u001B[0m: name 'o3d' is not defined"
     ]
    }
   ],
   "source": [
    "pc5 = o3d.io.read_point_cloud('pcds/test_750_1000_20cm.pcd')"
   ]
  },
  {
   "cell_type": "code",
   "execution_count": null,
   "id": "24aa0473-f665-48e8-befe-466b7a5de2c7",
   "metadata": {},
   "outputs": [],
   "source": []
  }
 ],
 "metadata": {
  "kernelspec": {
   "display_name": "Python 3",
   "language": "python",
   "name": "python3"
  },
  "language_info": {
   "codemirror_mode": {
    "name": "ipython",
    "version": 3
   },
   "file_extension": ".py",
   "mimetype": "text/x-python",
   "name": "python",
   "nbconvert_exporter": "python",
   "pygments_lexer": "ipython3",
   "version": "3.8.8"
  }
 },
 "nbformat": 4,
 "nbformat_minor": 5
}