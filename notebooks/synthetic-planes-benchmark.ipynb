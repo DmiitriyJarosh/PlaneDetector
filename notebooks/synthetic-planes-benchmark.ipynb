{
 "cells": [
  {
   "cell_type": "code",
   "execution_count": 18,
   "metadata": {},
   "outputs": [],
   "source": [
    "import numpy as np\n",
    "import pickle\n",
    "from mrob.mrob import FGraph, geometry, registration, LM"
   ]
  },
  {
   "cell_type": "code",
   "execution_count": 19,
   "metadata": {},
   "outputs": [],
   "source": [
    "# solve a particular problem\n",
    "def solve_particular_problem(problem,method,T_gt,initialize):\n",
    "    # solve problem for different methods\n",
    "    problem.reset_solution()\n",
    "    if initialize:\n",
    "        problem.solve(registration.INITIALIZE)\n",
    "    T1 = problem.get_last_pose()\n",
    "    problem.solve(method)\n",
    "    T2 = problem.get_last_pose()\n",
    "    r = problem.print_evaluate() #outputs a list with results\n",
    "    # need to evaluate initial pose and result\n",
    "    r.append(T1.distance_rotation(T_gt))\n",
    "    r.append(T1.distance_trans(T_gt))\n",
    "    r.append(T2.distance_rotation(T_gt))\n",
    "    r.append(T2.distance_trans(T_gt))\n",
    "    # calculate success:\n",
    "    success = 1\n",
    "    if r[13]-r[15] < 0 and r[14] - r[16] < 0:\n",
    "        success = 0\n",
    "    r.append(success)\n",
    "    return r"
   ]
  },
  {
   "cell_type": "code",
   "execution_count": 20,
   "metadata": {},
   "outputs": [],
   "source": [
    "# solve a landmark problem\n",
    "import time\n",
    "def solve_landmark_particular_problem(problem,synthetic_points, N_planes,N_poses):\n",
    "    # create FG\n",
    "    graph = FGraph()\n",
    "    T_gt = synthetic_points.get_ground_truth_last_pose()\n",
    "    \n",
    "    #plane landmakrs, for now, we know the number of planes. Uninitialized\n",
    "    for p in range(N_planes):\n",
    "        graph.add_node_plane_4d(np.array([1,0,0,0])) #nodes are numbered from 0. No other node should be added BEFORE\n",
    "    W_z = np.identity(4)\n",
    "    \n",
    "    # init9ializing nodes\n",
    "    graph_trajectory = []\n",
    "    for t in range(N_poses):\n",
    "        n1 = graph.add_node_pose_3d(geometry.SE3())#add a pose in the FG\n",
    "        graph_trajectory.append(n1)\n",
    "    graph.add_factor_1pose_3d(geometry.SE3(),graph_trajectory[0],1e6*np.identity(6))\n",
    "    \n",
    "    for t in range(N_poses):\n",
    "        x = synthetic_points.get_point_cloud(t)\n",
    "        ids = synthetic_points.get_point_plane_ids(t)\n",
    "        X=[]\n",
    "        # plane ids are consecutive, if not iterate over a list\n",
    "        for p in range(N_planes):\n",
    "            X.append([])\n",
    "\n",
    "        # group points\n",
    "        for n in range(len(x)):\n",
    "            X[ids[n]].append(x[n])\n",
    "        # estimate plane observation\n",
    "        for p in range(N_planes):\n",
    "            P = np.vstack((np.array(X[p]).T, np.ones(len(X[p]))))\n",
    "            z = calculate_plane(P).reshape(4,1)\n",
    "            z = z / np.linalg.norm(z[:3]) * np.sign(z[-1]) # this is to ensure that signs of pi and z_pi are the same\n",
    "            # add plane observation\n",
    "            graph.add_factor_1pose_1plane_4d(z,graph_trajectory[t],p,W_z) #it requires plane with [n,d], st.|n|=1\n",
    "    \n",
    "    \n",
    "    # solve graph TODO time\n",
    "    t0= time.process_time()\n",
    "    graph.solve(LM)\n",
    "    t1 = time.process_time() - t0\n",
    "    x = graph.get_estimated_state()\n",
    "    T1 = geometry.SE3(x[-1])\n",
    "    r = [0]*15\n",
    "    r[4] = t1*1e6\n",
    "\n",
    "    \n",
    "    # need to evaluate initial pose and result\n",
    "    r.append(T1.distance_rotation(T_gt))\n",
    "    r.append(T1.distance_trans(T_gt))\n",
    "    # calculate success:\n",
    "    success = 1\n",
    "    if r[15] > 1.0 and r[16] > 1.0:\n",
    "        success = 0\n",
    "    r.append(success)\n",
    "    return r\n",
    "\n",
    "# function for calculating planes, in homogenous coords\n",
    "def calculate_plane(X):\n",
    "    P = X @ X.T\n",
    "    v, vect = np.linalg.eig(P)\n",
    "    min_idex = np.where(v == np.amin(v))\n",
    "    #print(v)\n",
    "    #print(vect)\n",
    "    if len(min_idex[0]) != 1:\n",
    "        min_idex = min_idex[0][0]\n",
    "    return np.real(vect[:,min_idex]) # to avoid rare cases of complex solution..."
   ]
  },
  {
   "cell_type": "code",
   "execution_count": 21,
   "metadata": {},
   "outputs": [],
   "source": [
    "# create problem and evaluate\n",
    "def solve_new_problem(result,N_points,N_planes,N_poses, point_noise,bias):\n",
    "    synthetic_points = registration.CreatePoints(N_points,N_planes,N_poses, point_noise,bias)#add bias noise param\n",
    "    problem = registration.PlaneRegistration() #empty creator\n",
    "    synthetic_points.create_plane_registration(problem)\n",
    "    T_gt = synthetic_points.get_ground_truth_last_pose()\n",
    "    \n",
    "\n",
    "    #1.1) Gradinent ini\n",
    "    r = solve_particular_problem(problem, registration.GRADIENT_BENGIOS_NAG,T_gt,True)\n",
    "    result['grad-ini'].append(r)\n",
    "    \n",
    "    # 1.2) Gradient\n",
    "    r = solve_particular_problem(problem, registration.GRADIENT_BENGIOS_NAG,T_gt,False)\n",
    "    result['grad'].append(r)\n",
    "\n",
    "    # 2.1) Solve GN Hessian optimization INI\n",
    "    r = solve_particular_problem(problem, registration.GN_HESSIAN,T_gt,True)\n",
    "    result['gn-ini'].append(r)\n",
    "\n",
    "    # 2.2) Solve GN Hessian optimization\n",
    "    r = solve_particular_problem(problem, registration.GN_HESSIAN,T_gt,False)\n",
    "    result['gn'].append(r)\n",
    "    \n",
    "    # 3.1) Solve LM Ellipse optimization INI\n",
    "    r = solve_particular_problem(problem, registration.LM_ELLIP,T_gt,True)\n",
    "    result['lm-e-ini'].append(r)\n",
    "    \n",
    "    # 3.2) Solve LM Ellipse optimization \n",
    "    r = solve_particular_problem(problem, registration.LM_ELLIP,T_gt,False)\n",
    "    result['lm-e'].append(r)\n",
    "    \n",
    "    # 4.1) Solve LM Sphere optimization INI\n",
    "    r = solve_particular_problem(problem, registration.LM_SPHER,T_gt,True)\n",
    "    result['lm-s-ini'].append(r)\n",
    "    \n",
    "    # 4.2) Solve LM Sphere optimization\n",
    "    r = solve_particular_problem(problem, registration.LM_SPHER,T_gt,False)\n",
    "    result['lm-s'].append(r)\n",
    "    \n",
    "    # 5. Plane landmark\n",
    "    r = solve_landmark_particular_problem(problem,synthetic_points,N_planes,N_poses)\n",
    "    result['land'].append(r)\n",
    "    \n",
    "    return result"
   ]
  },
  {
   "cell_type": "code",
   "execution_count": 24,
   "metadata": {},
   "outputs": [],
   "source": [
    "# Sweep over the parameters and create some statistics. Parameters\n",
    "results={} #dictionary for results\n",
    "results['grad'] = []\n",
    "results['gn'] = []\n",
    "results['lm-e'] = []\n",
    "results['lm-s'] = []\n",
    "results['grad-ini'] = []\n",
    "results['gn-ini'] = []\n",
    "results['lm-e-ini'] = []\n",
    "results['lm-s-ini'] = []\n",
    "results['land'] = []\n",
    "\n",
    "N_points_frame = [20]\n",
    "N_planes = [3]\n",
    "N_poses = [3]\n",
    "point_noise = [0.005,0.01, 0.03]\n",
    "N_bias = [0.01]#bias in the plane does not help much, but adds noise to the initial solution by arun"
   ]
  },
  {
   "cell_type": "code",
   "execution_count": 25,
   "metadata": {},
   "outputs": [
    {
     "name": "stdout",
     "output_type": "stream",
     "text": [
      "Iteration =  20 3 3 0.005\n",
      "Iteration =  20 3 3 0.01\n",
      "Iteration =  20 3 3 0.03\n"
     ]
    }
   ],
   "source": [
    "for n in N_points_frame:\n",
    "    for pi in N_planes:\n",
    "        for p in N_poses:\n",
    "            for s in point_noise:\n",
    "                for bias in N_bias:\n",
    "                    print('Iteration = ',n,pi,p,s)\n",
    "                    for samples in range(100):\n",
    "                        solve_new_problem(results,n,pi,p,s,bias)\n",
    "with open(\"res.txt\", \"wb\") as fp:   #Pickling\n",
    "    pickle.dump(results, fp)"
   ]
  },
  {
   "cell_type": "markdown",
   "metadata": {},
   "source": [
    "# Evaluation of results"
   ]
  },
  {
   "cell_type": "code",
   "execution_count": 26,
   "metadata": {},
   "outputs": [],
   "source": [
    "import matplotlib.pyplot as plt\n",
    "# sets the default fonts on matplotlib to type2 postcript\n",
    "plt.rcParams['pdf.fonttype'] = 42\n",
    "plt.rcParams['ps.fonttype'] = 42"
   ]
  },
  {
   "cell_type": "code",
   "execution_count": 28,
   "metadata": {},
   "outputs": [],
   "source": [
    "#file = \"res_points100-750.txt\"\n",
    "#file = \"res_points20-200.txt\"\n",
    "file = \"res.txt\"\n",
    "#file = \"res.txt\"\n",
    "\n",
    "with open(file, \"rb\") as fp:   # Unpickling\n",
    "    res = pickle.load(fp)\n",
    "results = {}\n",
    "results['grad'] = np.array(res['grad'])\n",
    "results['gn'] = np.array(res['gn'])\n",
    "results['lm-e'] = np.array(res['lm-e'])\n",
    "results['lm-s'] = np.array(res['lm-s'])\n",
    "results['grad-ini'] = np.array(res['grad-ini'])\n",
    "results['gn-ini'] = np.array(res['gn-ini'])\n",
    "results['lm-e-ini'] = np.array(res['lm-e-ini'])\n",
    "results['lm-s-ini'] = np.array(res['lm-s-ini'])\n",
    "results['land'] = np.array(res['land'])"
   ]
  },
  {
   "cell_type": "code",
   "execution_count": 29,
   "metadata": {},
   "outputs": [],
   "source": [
    "# analize results\n",
    "# Nplanes[0], Nposes[1], Npoints[2], iters[3],  process-time[4],\n",
    "    #         ini_error[5] error[6], eigenvalues[7-12]\n",
    "    #         erro_ini_rot[13] erro_ini_tran[14] erro_rot[15] erro_tran[16]\n",
    "def print_statistics(index, results):\n",
    "    print('Gradient    : ', np.percentile(results['grad'][:,index],25),\n",
    "          np.median(results['grad'][:,index]), np.percentile(results['grad'][:,index],75))\n",
    "    print('Gradient-ini: ', np.percentile(results['grad-ini'][:,index],25),\n",
    "      np.median(results['grad-ini'][:,index]), np.percentile(results['grad-ini'][:,index],75))\n",
    "    x = results['gn'][:,index][np.logical_not(np.isnan(results['gn'][:,index]))]\n",
    "    print('Gauss Newton: ', np.percentile(x,25),\n",
    "          np.median(x), np.percentile(x,75))\n",
    "    x = results['gn-ini'][:,index][np.logical_not(np.isnan(results['gn-ini'][:,index]))]\n",
    "    print('Gauss New ini: ', np.percentile(x,25),\n",
    "          np.median(x), np.percentile(x,75))\n",
    "    print('LM Ellispe   : ', np.percentile(results['lm-e'][:,index],25),\n",
    "          np.median(results['lm-e'][:,index]), np.percentile(results['lm-e'][:,index],75))\n",
    "    print('LM Ellisp INI: ', np.percentile(results['lm-e-ini'][:,index],25),\n",
    "          np.median(results['lm-e-ini'][:,index]), np.percentile(results['lm-e-ini'][:,index],75))\n",
    "    print('LM Sphere    : ', np.percentile(results['lm-s'][:,index],25),\n",
    "          np.median(results['lm-s'][:,index]), np.percentile(results['lm-s'][:,index],75))\n",
    "    print('LM Sphere INI: ', np.percentile(results['lm-s-ini'][:,index],25),\n",
    "          np.median(results['lm-s-ini'][:,index]), np.percentile(results['lm-s-ini'][:,index],75))\n",
    "    print('FGraph Land  : ', np.percentile(results['land'][:,index],25),\n",
    "          np.median(results['land'][:,index]), np.percentile(results['land'][:,index],75))\n",
    "\n",
    "def print_mean(index,results):\n",
    "    print('Gradient    : ', np.mean(results['grad'][:,index]), np.std(results['grad'][:,index]))\n",
    "    print('Gradient-ini: ', np.mean(results['grad-ini'][:,index]), np.std(results['grad-ini'][:,index]))\n",
    "    x = results['gn'][:,index][np.logical_not(np.isnan(results['gn'][:,index]))]\n",
    "    print('Gauss Newton: ', np.mean(x), np.std(x))\n",
    "    x = results['gn-ini'][:,index][np.logical_not(np.isnan(results['gn-ini'][:,index]))]\n",
    "    print('Gauss New ini: ', np.mean(x), np.std(x))\n",
    "    print('LM Ellispe   : ', np.mean(results['lm-e'][:,index]), np.std(results['lm-e'][:,index]))\n",
    "    print('LM Ellisp INI: ', np.mean(results['lm-e-ini'][:,index]), np.std(results['lm-e-ini'][:,index]))\n",
    "    print('FGraph landm: ', np.mean(results['land'][:,index]), np.std(results['land'][:,index]))"
   ]
  },
  {
   "cell_type": "code",
   "execution_count": 30,
   "metadata": {},
   "outputs": [
    {
     "name": "stdout",
     "output_type": "stream",
     "text": [
      "Mean Iterations\n",
      "Gradient    :  460.0733333333333 320.3468348871614\n",
      "Gradient-ini:  202.76 956.6413690964168\n",
      "Gauss Newton:  79.62666666666667 28.032135527323316\n",
      "Gauss New ini:  42.28 38.301892033336074\n",
      "LM Ellispe   :  67.82666666666667 28.518589648780942\n",
      "LM Ellisp INI:  20.643333333333334 20.177283981965683\n",
      "FGraph landm:  0.0 0.0\n",
      "Mean Processing time\n",
      "Gradient    :  4537.116666666667 3363.804486449169\n",
      "Gradient-ini:  1953.23 9033.066366251274\n",
      "Gauss Newton:  8912.286666666667 3455.257258799826\n",
      "Gauss New ini:  4783.126666666667 4443.019022086471\n",
      "LM Ellispe   :  8302.97 4253.818490380144\n",
      "LM Ellisp INI:  2436.33 2674.1114426602844\n",
      "FGraph landm:  3489.5833333333335 6872.434811844748\n",
      "Rotation error\n",
      "Gradient    :  0.11657821737374058 0.18665151057610663 0.36299805918650707\n",
      "Gradient-ini:  0.048091817759878405 0.07556040865965982 0.11875726881597509\n",
      "Gauss Newton:  1.3710330677100382 2.031880491341022 2.6256076854268127\n",
      "Gauss New ini:  0.01699001061030542 0.04283447482334567 1.6751459825803805\n",
      "LM Ellispe   :  0.03431065496505714 0.7462490320537722 1.7586772796217653\n",
      "LM Ellisp INI:  0.013063366995893921 0.023931711689067485 0.04250566426257307\n",
      "LM Sphere    :  0.03943640537431272 0.7085750208354644 1.8314217933021455\n",
      "LM Sphere INI:  0.012446241083266973 0.02361565631551186 0.042466712911813316\n",
      "FGraph Land  :  0.010081955352246283 0.024789264459021687 0.0682315109958137\n",
      "Translation error\n",
      "Gradient    :  0.3671699592663511 0.6128763435511085 0.919994409487412\n",
      "Gradient-ini:  0.16005335487943542 0.2543755457102882 0.3810041474543457\n",
      "Gauss Newton:  5.770059632648744 12.111910038971384 58.04925398519927\n",
      "Gauss New ini:  0.05006484276818719 0.18914506966074995 23.258758822998644\n",
      "LM Ellispe   :  0.11569237823312693 2.18801869527587 6.219118082642096\n",
      "LM Ellisp INI:  0.0389367523835016 0.08812883752981011 0.18159185280133183\n",
      "LM Sphere    :  0.12476510757790134 2.257974620112504 5.9102204030892675\n",
      "LM Sphere INI:  0.040128275798723516 0.08736556424930686 0.19861505613290256\n",
      "FGraph Land  :  0.06353742540179252 0.1737623085539025 0.7550458261084253\n",
      "Success rate\n",
      "Gradient    :  0.98 0.13999999999999999\n",
      "Gradient-ini:  0.9933333333333333 0.08137703743822469\n",
      "Gauss Newton:  0.44333333333333336 0.4967785108968472\n",
      "Gauss New ini:  0.5666666666666667 0.4955356249106168\n",
      "LM Ellispe   :  0.8 0.4000000000000001\n",
      "LM Ellisp INI:  0.9866666666666667 0.11469767022723505\n",
      "FGraph landm:  0.8933333333333333 0.308688984074406\n"
     ]
    }
   ],
   "source": [
    "print('Mean Iterations')\n",
    "#print_statistics(3,results)\n",
    "print_mean(3,results)\n",
    "print('Mean Processing time')\n",
    "#print_statistics(4,results)\n",
    "print_mean(4,results)\n",
    "print('Rotation error')\n",
    "print_statistics(15,results)\n",
    "print('Translation error')\n",
    "print_statistics(16,results)\n",
    "print('Success rate')\n",
    "print_mean(17,results)"
   ]
  },
  {
   "cell_type": "code",
   "execution_count": 31,
   "metadata": {},
   "outputs": [
    {
     "data": {
      "image/png": "[encoded data removed]",
      "text/plain": [
       "<Figure size 432x288 with 1 Axes>"
      ]
     },
     "metadata": {
      "needs_background": "light"
     },
     "output_type": "display_data"
    },
    {
     "data": {
      "image/png": "[encoded data removed]",
      "text/plain": [
       "<Figure size 432x288 with 1 Axes>"
      ]
     },
     "metadata": {
      "needs_background": "light"
     },
     "output_type": "display_data"
    }
   ],
   "source": [
    "i=2\n",
    "plt.hist(results['lm-e-ini'][:,i],100)\n",
    "plt.figure()\n",
    "plt.hist(results['land'][:,i],100)\n",
    "plt.show()"
   ]
  },
  {
   "cell_type": "code",
   "execution_count": 32,
   "metadata": {},
   "outputs": [
    {
     "data": {
      "image/png": "[encoded data removed]",
      "text/plain": [
       "<Figure size 576x288 with 1 Axes>"
      ]
     },
     "metadata": {
      "needs_background": "light"
     },
     "output_type": "display_data"
    }
   ],
   "source": [
    "def statistics_errors(res):\n",
    "    xrot = res[:,15][np.logical_not(np.isnan(res[:,15]))]\n",
    "    xtra = res[:,16][np.logical_not(np.isnan(res[:,16]))]\n",
    "    return [[np.median(xrot), np.median(xtra)],\n",
    "            [np.percentile(xrot,25), np.percentile(xtra,25)],\n",
    "            [np.percentile(xrot,75), np.percentile(xtra,75)]]\n",
    "\n",
    "# plot bar for static overall conditions\n",
    "\n",
    "labels = ['Rotation error [rad]', 'Translation error [m]']\n",
    "methods = ['Grad-EF', 'Newton-EF', 'LM-EF','Land']\n",
    "\n",
    "x = np.arange(len(labels))  # the label locations\n",
    "width = 0.45  # the width of the bars\n",
    "\n",
    "res0 = statistics_errors(results['grad-ini'])\n",
    "res1 = statistics_errors(results['gn-ini'])\n",
    "res2 = statistics_errors(results['lm-e-ini'])\n",
    "res3 = statistics_errors(results['land'])\n",
    "\n",
    "\n",
    "fig, ax = plt.subplots(figsize=(8,4))\n",
    "rects1 = ax.bar(x - width*0.75, res0[0], width/2, yerr=[res0[1],res0[2]], label=methods[0])\n",
    "rects2 = ax.bar(x - width*0.25, res1[0], width/2, yerr=[res1[1],res1[2]], label=methods[1])\n",
    "rects3 = ax.bar(x + width*0.25, res2[0], width/2, yerr=[res2[1],res2[2]], label=methods[2])\n",
    "rects4 = ax.bar(x + width*0.75, res3[0], width/2, yerr=[res3[1],res3[2]], label=methods[3])\n",
    "\n",
    "# Add some text for labels, title and custom x-axis tick labels, etc.\n",
    "ax.set_ylim([0,0.1])\n",
    "ax.set_ylabel('Pose Error')\n",
    "ax.set_title('Error to Ground Truth Last Pose')\n",
    "ax.set_xticks(x)\n",
    "ax.set_xticklabels(labels)\n",
    "ax.legend(loc='upper left')\n",
    "plt.savefig('error-gt-bar.pdf', bbox_inches='tight')"
   ]
  },
  {
   "cell_type": "code",
   "execution_count": 33,
   "metadata": {},
   "outputs": [
    {
     "ename": "IndexError",
     "evalue": "list index out of range",
     "output_type": "error",
     "traceback": [
      "\u001B[1;31m---------------------------------------------------------------------------\u001B[0m",
      "\u001B[1;31mIndexError\u001B[0m                                Traceback (most recent call last)",
      "\u001B[1;32m~\\AppData\\Local\\Temp/ipykernel_9580/164894429.py\u001B[0m in \u001B[0;36m<module>\u001B[1;34m\u001B[0m\n\u001B[0;32m     33\u001B[0m \u001B[0mplt\u001B[0m\u001B[1;33m.\u001B[0m\u001B[0mtitle\u001B[0m\u001B[1;33m(\u001B[0m\u001B[1;34m'Rotation Error [rad]'\u001B[0m\u001B[1;33m)\u001B[0m\u001B[1;33m\u001B[0m\u001B[1;33m\u001B[0m\u001B[0m\n\u001B[0;32m     34\u001B[0m \u001B[0mplt\u001B[0m\u001B[1;33m.\u001B[0m\u001B[0mxlabel\u001B[0m\u001B[1;33m(\u001B[0m\u001B[1;34m'number of points per pose'\u001B[0m\u001B[1;33m)\u001B[0m\u001B[1;33m\u001B[0m\u001B[1;33m\u001B[0m\u001B[0m\n\u001B[1;32m---> 35\u001B[1;33m \u001B[0mplt\u001B[0m\u001B[1;33m.\u001B[0m\u001B[0mxticks\u001B[0m\u001B[1;33m(\u001B[0m\u001B[1;33m(\u001B[0m\u001B[0mx\u001B[0m\u001B[1;33m[\u001B[0m\u001B[1;36m0\u001B[0m\u001B[1;33m]\u001B[0m\u001B[1;33m,\u001B[0m\u001B[0mx\u001B[0m\u001B[1;33m[\u001B[0m\u001B[1;36m3\u001B[0m\u001B[1;33m]\u001B[0m\u001B[1;33m,\u001B[0m\u001B[0mx\u001B[0m\u001B[1;33m[\u001B[0m\u001B[1;36m4\u001B[0m\u001B[1;33m]\u001B[0m\u001B[1;33m,\u001B[0m\u001B[0mx\u001B[0m\u001B[1;33m[\u001B[0m\u001B[1;36m5\u001B[0m\u001B[1;33m]\u001B[0m\u001B[1;33m)\u001B[0m\u001B[1;33m)\u001B[0m\u001B[1;33m\u001B[0m\u001B[1;33m\u001B[0m\u001B[0m\n\u001B[0m\u001B[0;32m     36\u001B[0m \u001B[0mplt\u001B[0m\u001B[1;33m.\u001B[0m\u001B[0mlegend\u001B[0m\u001B[1;33m(\u001B[0m\u001B[1;33m)\u001B[0m\u001B[1;33m\u001B[0m\u001B[1;33m\u001B[0m\u001B[0m\n\u001B[0;32m     37\u001B[0m \u001B[0mplt\u001B[0m\u001B[1;33m.\u001B[0m\u001B[0msavefig\u001B[0m\u001B[1;33m(\u001B[0m\u001B[1;34m'rotation-number-points.pdf'\u001B[0m\u001B[1;33m,\u001B[0m \u001B[0mbbox_inches\u001B[0m\u001B[1;33m=\u001B[0m\u001B[1;34m'tight'\u001B[0m\u001B[1;33m)\u001B[0m\u001B[1;33m\u001B[0m\u001B[1;33m\u001B[0m\u001B[0m\n",
      "\u001B[1;31mIndexError\u001B[0m: list index out of range"
     ]
    },
    {
     "data": {
      "image/png": "[encoded data removed]",
      "text/plain": [
       "<Figure size 216x216 with 1 Axes>"
      ]
     },
     "metadata": {
      "needs_background": "light"
     },
     "output_type": "display_data"
    }
   ],
   "source": [
    "# plot function of poses\n",
    "# preprocess results\n",
    "def create_index_points(N_ref):\n",
    "    cont = 0\n",
    "    ind = []\n",
    "    for n in N_points_frame:\n",
    "        for pi in N_planes:\n",
    "            for p in N_poses:\n",
    "                for s in point_noise:\n",
    "                    for samples in range(100):\n",
    "                        if n == N_ref:\n",
    "                            ind.append(cont)\n",
    "                        cont = cont+1\n",
    "    return ind\n",
    "\n",
    "# create statistics for each number of points\n",
    "x = N_points_frame\n",
    "res_ef = []\n",
    "res_land = []\n",
    "for n in N_points_frame:\n",
    "    ind = create_index_points(n)\n",
    "    tmp = statistics_errors(results['lm-e-ini'][ind,:])\n",
    "    res_ef.append(np.array(tmp).reshape(1,6))\n",
    "    tmp = statistics_errors(results['land'][ind,:])\n",
    "    res_land.append(np.array(tmp).reshape(1,6))\n",
    "plt.figure(figsize=(3,3))\n",
    "res_ef = np.asarray(res_ef)[:,0,:]\n",
    "plt.plot(x, res_ef[:,0], 'g', label='LM-EF')\n",
    "#plt.fill_between(x,res_ef[:,2],res_ef[:,4], color='green', alpha = 0.2 )\n",
    "res_land = np.asarray(res_land)[:,0,:]\n",
    "plt.plot(x, res_land[:,0], 'r--', label='Landmark')\n",
    "#plt.fill_between(x,res_land[:,2],res_land[:,4], color='red', alpha = 0.2 )\n",
    "plt.title('Rotation Error [rad]')\n",
    "plt.xlabel('number of points per pose')\n",
    "plt.xticks((x[0],x[3],x[4],x[5]))\n",
    "plt.legend()\n",
    "plt.savefig('rotation-number-points.pdf', bbox_inches='tight')\n",
    "\n",
    "# Translation error\n",
    "plt.figure(figsize=(3,3))\n",
    "plt.plot(x, res_ef[:,1], 'g', label='LM-EF')\n",
    "#plt.fill_between(x,res_ef[:,3],res_ef[:,5], color='green', alpha = 0.2 )\n",
    "plt.plot(x, res_land[:,1], 'r--', label='Landmark')\n",
    "#plt.fill_between(x,res_land[:,3],res_land[:,5], color='red', alpha = 0.2 )\n",
    "plt.title('Translation Error [m]')\n",
    "plt.xlabel('number of points per pose')\n",
    "plt.xticks((x[0],x[3],x[4],x[5]))\n",
    "plt.legend()\n",
    "plt.savefig('trans-number-points.pdf', bbox_inches='tight')"
   ]
  },
  {
   "cell_type": "code",
   "execution_count": 34,
   "metadata": {},
   "outputs": [],
   "source": [
    "# create problem and evaluate\n",
    "def solve_new_problem_lm(result,N_points,N_planes,N_poses, point_noise,bias):\n",
    "    synthetic_points = registration.CreatePoints(N_points,N_planes,N_poses, point_noise,bias)#add bias noise param\n",
    "    problem = registration.PlaneRegistration() #empty creator\n",
    "    synthetic_points.create_plane_registration(problem)\n",
    "    T_gt = synthetic_points.get_ground_truth_last_pose()\n",
    "    \n",
    "    # 3.1) Solve LM Ellipse optimization INI\n",
    "    r = solve_particular_problem(problem, registration.LM_ELLIP,T_gt,True)\n",
    "    result.append(r)"
   ]
  },
  {
   "cell_type": "code",
   "execution_count": 37,
   "metadata": {},
   "outputs": [
    {
     "name": "stdout",
     "output_type": "stream",
     "text": [
      "Iteration =  3 3 2 0.005\n",
      "Iteration =  3 3 3 0.005\n",
      "Iteration =  3 3 4 0.005\n",
      "Iteration =  3 3 5 0.005\n",
      "Iteration =  3 3 6 0.005\n",
      "Iteration =  3 3 7 0.005\n",
      "Iteration =  3 3 8 0.005\n",
      "Iteration =  3 3 9 0.005\n",
      "Iteration =  3 3 10 0.005\n",
      "Iteration =  3 3 11 0.005\n",
      "Iteration =  3 3 12 0.005\n",
      "Iteration =  3 3 13 0.005\n",
      "Iteration =  3 3 14 0.005\n",
      "Iteration =  3 3 15 0.005\n",
      "Iteration =  3 3 16 0.005\n",
      "Iteration =  3 3 17 0.005\n",
      "Iteration =  3 3 18 0.005\n",
      "Iteration =  3 3 19 0.005\n"
     ]
    }
   ],
   "source": [
    "# create an example with a fixed number of points per plane (1 for example) and augment with poses\n",
    "# rerun cell with defintoin of results as lists\n",
    "res=[]\n",
    "for n in [3]:\n",
    "    for pi in [3]:\n",
    "        for p in np.arange(2,20):\n",
    "            for s in [0.005]: # point_noise:\n",
    "                for bias in [0.0]: #N_bias:\n",
    "                    print('Iteration = ',n,pi,p,s)\n",
    "                    for samples in range(100):\n",
    "                        solve_new_problem_lm(res,n,pi,p,s,bias)"
   ]
  },
  {
   "cell_type": "code",
   "execution_count": 38,
   "metadata": {},
   "outputs": [
    {
     "data": {
      "text/plain": [
       "<matplotlib.legend.Legend at 0x26afadfb880>"
      ]
     },
     "execution_count": 38,
     "metadata": {},
     "output_type": "execute_result"
    },
    {
     "data": {
      "image/png": "[encoded data removed]",
      "text/plain": [
       "<Figure size 576x432 with 1 Axes>"
      ]
     },
     "metadata": {
      "needs_background": "light"
     },
     "output_type": "display_data"
    }
   ],
   "source": [
    "x = np.arange(2,20)\n",
    "res_ef = []\n",
    "res = np.asarray(res)\n",
    "for n in x:\n",
    "    ind = np.where(res[:,1]== n)\n",
    "    tmp = statistics_errors(res[ind,:])\n",
    "    res_ef.append(np.array(tmp).reshape(1,6))\n",
    "plt.figure(figsize=(8,6))\n",
    "res_ef = np.asarray(res_ef)[:,0,:]\n",
    "plt.plot(x, res_ef[:,0], 'g', label='LM-EF')\n",
    "#plt.fill_between(x,res_ef[:,2],res_ef[:,4], color='green', alpha = 0.2 )\n",
    "plt.title('Rotation Error [rad]')\n",
    "plt.xlabel('number of points per pose')\n",
    "plt.legend()\n",
    "# the problem becomes illposes and diverges quickly...\n",
    "#plt.savefig('rotation-1point-poses.pdf', bbox_inches='tight')"
   ]
  },
  {
   "cell_type": "code",
   "execution_count": 39,
   "metadata": {},
   "outputs": [
    {
     "data": {
      "text/plain": [
       "-1.96145181543259e-16"
      ]
     },
     "execution_count": 39,
     "metadata": {},
     "output_type": "execute_result"
    }
   ],
   "source": [
    "np.median(res[:,5])"
   ]
  },
  {
   "cell_type": "code",
   "execution_count": 40,
   "metadata": {},
   "outputs": [],
   "source": [
    "# function to plot any of the historgrams results:\n",
    "def plot_hist(index, results):\n",
    "    plt.figure(figsize=(18,8))\n",
    "    plt.subplot(2,4,1)\n",
    "    plt.hist(results['grad'][:,index],  label='grad')\n",
    "    plt.title('Gradient')\n",
    "    \n",
    "    plt.subplot(2,4,2)\n",
    "    plt.hist(results['gn'][:,index],  label='gn')\n",
    "    plt.title('Gauss Newton')\n",
    "    \n",
    "    plt.subplot(2,4,3)\n",
    "    plt.hist(results['lm-e'][:,index],  label='lm-e')\n",
    "    plt.title('LM Ellipse')\n",
    "    \n",
    "    plt.subplot(2,4,4)\n",
    "    plt.hist(results['lm-s'][:,index],  label='lm-s')\n",
    "    plt.title('LM spehere')\n",
    "    \n",
    "    plt.subplot(2,4,5)\n",
    "    plt.hist(results['grad-ini'][:,index],  label='grad-ini')\n",
    "    plt.title('Gradient-INI')\n",
    "    \n",
    "    plt.subplot(2,4,6)\n",
    "    plt.hist(results['gn-ini'][:,index],  label='gn')\n",
    "    plt.title('Gauss Newton INI')\n",
    "    \n",
    "    plt.subplot(2,4,7)\n",
    "    plt.hist(results['lm-e-ini'][:,index],  label='lm-e')\n",
    "    plt.title('LM Ellipse INI')\n",
    "    \n",
    "    plt.subplot(2,4,8)\n",
    "    plt.hist(results['lm-s-ini'][:,index],  label='lm-s')\n",
    "    plt.title('LM spehere INI')"
   ]
  },
  {
   "cell_type": "code",
   "execution_count": 41,
   "metadata": {},
   "outputs": [],
   "source": [
    "# function to plot any of the historgrams results:\n",
    "def plot_all_hist(x):\n",
    "    plt.figure(figsize=(18,9))\n",
    "    t =1\n",
    "    for index in [3,4,5,6,13,14,15,16]:\n",
    "        plt.subplot(2,4,t)\n",
    "        plt.hist(x[:,index])\n",
    "        plt.title(index)\n",
    "        t = t+1"
   ]
  },
  {
   "cell_type": "code",
   "execution_count": 42,
   "metadata": {},
   "outputs": [],
   "source": [
    "#function to plot any of the results\n",
    "def plot_results(index,results):\n",
    "    plt.figure(figsize=(8,5))\n",
    "    plt.plot(results['grad'],  label='grad')\n",
    "    #TODO"
   ]
  },
  {
   "cell_type": "code",
   "execution_count": 43,
   "metadata": {},
   "outputs": [
    {
     "data": {
      "image/png": "[encoded data removed]",
      "text/plain": [
       "<Figure size 1296x576 with 8 Axes>"
      ]
     },
     "metadata": {
      "needs_background": "light"
     },
     "output_type": "display_data"
    }
   ],
   "source": [
    "# analize results\n",
    "# Nplanes[0], Nposes[1], Npoints[2], iters[3],  process-time[4],\n",
    "    #         ini_error[5] error[6], eigenvalues[7-12]\n",
    "    #         erro_ini_rot[13] erro_ini_tran[14] erro_rot[15] erro_tran[16]\n",
    "plot_hist(16,results)"
   ]
  },
  {
   "cell_type": "code",
   "execution_count": 44,
   "metadata": {},
   "outputs": [
    {
     "data": {
      "image/png": "[encoded data removed]",
      "text/plain": [
       "<Figure size 1296x648 with 8 Axes>"
      ]
     },
     "metadata": {
      "needs_background": "light"
     },
     "output_type": "display_data"
    }
   ],
   "source": [
    "plot_all_hist(results['lm-e-ini'])"
   ]
  },
  {
   "cell_type": "markdown",
   "metadata": {},
   "source": [
    "# Plane Landmark"
   ]
  },
  {
   "cell_type": "code",
   "execution_count": 45,
   "metadata": {},
   "outputs": [],
   "source": [
    "#moved up to do a single "
   ]
  },
  {
   "cell_type": "code",
   "execution_count": 46,
   "metadata": {},
   "outputs": [],
   "source": [
    "# create problem and evaluate\n",
    "def solve_new_problem_landmark(result,N_points,N_planes,N_poses, point_noise):\n",
    "    synthetic_points = registration.CreatePoints(N_points,N_planes,N_poses, point_noise,0.1)\n",
    "    problem = registration.PlaneRegistration()\n",
    "    synthetic_points.create_plane_registration(problem)\n",
    "    T_gt = synthetic_points.get_ground_truth_last_pose()\n",
    "    \n",
    "\n",
    "    # 3.1) Solve LM Ellipse optimization INI\n",
    "    r = solve_particular_problem(problem, registration.LM_ELLIP,T_gt,True)\n",
    "    result['ef'].append(r)\n",
    "    \n",
    "    r = solve_landmark_particular_problem(problem,synthetic_points,N_planes,N_poses)\n",
    "    result['land'].append(r)"
   ]
  },
  {
   "cell_type": "code",
   "execution_count": 47,
   "metadata": {},
   "outputs": [],
   "source": [
    "results_land = {}\n",
    "results_land['ef']=[]\n",
    "results_land['land']=[]\n",
    "solve_new_problem_landmark(results_land,50,3,3,0.05)"
   ]
  },
  {
   "cell_type": "code",
   "execution_count": 48,
   "metadata": {},
   "outputs": [
    {
     "name": "stdout",
     "output_type": "stream",
     "text": [
      "0.10468393020794706\n",
      "3.717437078070865\n"
     ]
    }
   ],
   "source": [
    "# analize results\n",
    "# Nplanes[0], Nposes[1], Npoints[2], iters[3],  process-time[4],\n",
    "    #         ini_error[5] error[6], eigenvalues[7-12]\n",
    "    #         erro_ini_rot[13] erro_ini_tran[14] erro_rot[15] erro_tran[16]\n",
    "i=16\n",
    "print(results_land['ef'][0][i])\n",
    "print(results_land['land'][0][i])"
   ]
  },
  {
   "cell_type": "code",
   "execution_count": null,
   "metadata": {},
   "outputs": [],
   "source": []
  },
  {
   "cell_type": "code",
   "execution_count": null,
   "metadata": {},
   "outputs": [],
   "source": []
  }
 ],
 "metadata": {
  "kernelspec": {
   "display_name": "Python 3 (ipykernel)",
   "language": "python",
   "name": "python3"
  },
  "language_info": {
   "codemirror_mode": {
    "name": "ipython",
    "version": 3
   },
   "file_extension": ".py",
   "mimetype": "text/x-python",
   "name": "python",
   "nbconvert_exporter": "python",
   "pygments_lexer": "ipython3",
   "version": "3.8.6"
  }
 },
 "nbformat": 4,
 "nbformat_minor": 4
}